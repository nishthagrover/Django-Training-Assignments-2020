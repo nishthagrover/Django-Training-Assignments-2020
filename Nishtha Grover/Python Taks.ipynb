{
 "cells": [
  {
   "cell_type": "markdown",
   "metadata": {},
   "source": [
    "# Python Tasks\n",
    "\n",
    "\n"
   ]
  },
  {
   "cell_type": "markdown",
   "metadata": {},
   "source": [
    "Q-1) Scrap any website to find out five top repeated words and perform the following:\n",
    "    a- how many times the word has been repeated.\n",
    "    b- you have to plot a graph of the output."
   ]
  },
  {
   "cell_type": "code",
   "execution_count": null,
   "metadata": {},
   "outputs": [],
   "source": [
    "from urllib.request import urlopen\n",
    "from bs4 import BeautifulSoup\n",
    "import re\n",
    "import matplotlib.pyplot as plt\n",
    "import seaborn as sns\n",
    "%matplotlib inline"
   ]
  },
  {
   "cell_type": "code",
   "execution_count": null,
   "metadata": {},
   "outputs": [],
   "source": [
    "#web srapping a site\n",
    "url = \"http://www.hubertiming.com\"\n",
    "html = urlopen(url)\n",
    "\n",
    "#creating soup\n",
    "soup = BeautifulSoup(html, 'lxml')\n",
    "type(soup)\n",
    "\n",
    "#extracting text\n",
    "text = soup.get_text()"
   ]
  },
  {
   "cell_type": "code",
   "execution_count": null,
   "metadata": {},
   "outputs": [],
   "source": [
    "#removing digits and white spaces\n",
    "x = (re.findall(\"[A-Z|a-z]+\", text))\n",
    "# print(x)"
   ]
  },
  {
   "cell_type": "code",
   "execution_count": null,
   "metadata": {},
   "outputs": [],
   "source": [
    "#removing elements of length 1, because we need words\n",
    "words =[]\n",
    "for i in x:\n",
    "    if len(i)>=2:\n",
    "        words.append(i)\n",
    "#print(words)"
   ]
  },
  {
   "cell_type": "code",
   "execution_count": null,
   "metadata": {},
   "outputs": [],
   "source": [
    "dict_wrds ={}\n",
    "for i in words:\n",
    "    dict_wrds[i] = words.count(i)\n",
    "#print(dict_wrds)"
   ]
  },
  {
   "cell_type": "code",
   "execution_count": null,
   "metadata": {},
   "outputs": [],
   "source": [
    "m = sorted(dict_wrds.values())\n",
    "word = []\n",
    "frequency = []\n",
    "for x in m[-5:]:\n",
    "    for i,j in dict_wrds.items():\n",
    "        if j == x:\n",
    "            word.append(i)\n",
    "            frequency.append(j)\n",
    "        \n",
    "print(word)\n",
    "print(frequency)"
   ]
  },
  {
   "cell_type": "code",
   "execution_count": null,
   "metadata": {},
   "outputs": [],
   "source": [
    "sns.set()\n",
    "_=plt.bar(word,frequency)\n",
    "plt.xlabel(\"word\")\n",
    "plt.ylabel(\"frequency\")\n",
    "plt.show()"
   ]
  },
  {
   "cell_type": "code",
   "execution_count": null,
   "metadata": {},
   "outputs": [],
   "source": []
  },
  {
   "cell_type": "markdown",
   "metadata": {},
   "source": [
    "Q-2) Get input from the users  and it is recommended to be in  voice command  and you \n",
    "need to do a sentimental analysis of the given input  [ hint: use textblob library ].\n"
   ]
  },
  {
   "cell_type": "code",
   "execution_count": null,
   "metadata": {},
   "outputs": [
    {
     "name": "stdout",
     "output_type": "stream",
     "text": [
      " Enter your text:    titanic is a great movie\n",
      "Sentiment(polarity=0.8, subjectivity=0.75)\n",
      " Enter your text:    titanic is not a great movie\n",
      "Sentiment(polarity=-0.4, subjectivity=0.75)\n",
      " Enter your text:    titanic is a movie\n",
      "Sentiment(polarity=0.0, subjectivity=0.0)\n",
      " Enter your text:    titanic is my favourite\n",
      "Sentiment(polarity=0.0, subjectivity=0.0)\n",
      " Enter your text:    Titanic is not so great\n",
      "Sentiment(polarity=0.8, subjectivity=0.75)\n",
      " Enter your text:    titanic is based on a real story\n",
      "Sentiment(polarity=0.2, subjectivity=0.30000000000000004)\n",
      " Enter your text:    do you like titanic?\n",
      "Sentiment(polarity=0.0, subjectivity=0.0)\n"
     ]
    }
   ],
   "source": [
    "from textblob import TextBlob\n",
    "while(11):\n",
    "    input_text = input(\" Enter your text:    \" )\n",
    "    print(TextBlob(input_text).sentiment)"
   ]
  },
  {
   "cell_type": "code",
   "execution_count": null,
   "metadata": {},
   "outputs": [],
   "source": []
  }
 ],
 "metadata": {
  "kernelspec": {
   "display_name": "Python 3",
   "language": "python",
   "name": "python3"
  },
  "language_info": {
   "codemirror_mode": {
    "name": "ipython",
    "version": 3
   },
   "file_extension": ".py",
   "mimetype": "text/x-python",
   "name": "python",
   "nbconvert_exporter": "python",
   "pygments_lexer": "ipython3",
   "version": "3.7.6"
  }
 },
 "nbformat": 4,
 "nbformat_minor": 4
}
